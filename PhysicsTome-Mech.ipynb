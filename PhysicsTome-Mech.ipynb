{
 "cells": [
  {
   "cell_type": "markdown",
   "id": "fc05cdd3",
   "metadata": {},
   "source": [
    "# The Physics Tome\n",
    "---"
   ]
  },
  {
   "cell_type": "markdown",
   "id": "4a7ab387",
   "metadata": {},
   "source": [
    "Physics is cool and I like programming, so let's combine the two. - Nicholas O'Kelley"
   ]
  },
  {
   "cell_type": "markdown",
   "id": "a07c4c87",
   "metadata": {},
   "source": [
    "## Classes for values that are more complex"
   ]
  },
  {
   "cell_type": "code",
   "execution_count": 48,
   "id": "11f3f0df",
   "metadata": {},
   "outputs": [],
   "source": [
    "class Vector(object):\n",
    "    def __init(self, x, y):\n",
    "        self.x = x\n",
    "        self.y = y\n",
    "        self.mag = x + y\n",
    "        \n",
    "    def get_x_component(self):\n",
    "        return self.x\n",
    "    \n",
    "    def get_y_component(self):\n",
    "        return self.y"
   ]
  },
  {
   "cell_type": "code",
   "execution_count": 49,
   "id": "5fee9af7",
   "metadata": {},
   "outputs": [],
   "source": [
    "class Velocity(Vector):\n",
    "    def __init__(self, x,y):\n",
    "        Vector.__init__(self, x, y)\n",
    "    \n",
    "    def get_magnitude(self):\n",
    "        return self.mag"
   ]
  },
  {
   "cell_type": "markdown",
   "id": "a1df37a7",
   "metadata": {},
   "source": [
    "## Conversions\n",
    "---"
   ]
  },
  {
   "cell_type": "markdown",
   "id": "b2fc295a",
   "metadata": {},
   "source": [
    "First, a simple Temperature conversion"
   ]
  },
  {
   "cell_type": "code",
   "execution_count": 29,
   "id": "c9118cf0",
   "metadata": {},
   "outputs": [],
   "source": [
    "def f_to_c(fahr_temp):\n",
    "    return (fahr_temp - 32) * 5 / 9"
   ]
  },
  {
   "cell_type": "code",
   "execution_count": 30,
   "id": "b962c30e",
   "metadata": {},
   "outputs": [],
   "source": [
    "def c_to_f(cel_temp):\n",
    "    return cel_temp * (9 / 5) + 32"
   ]
  },
  {
   "cell_type": "markdown",
   "id": "90164070",
   "metadata": {},
   "source": [
    "## Force"
   ]
  },
  {
   "cell_type": "code",
   "execution_count": 31,
   "id": "e3d8bbc9",
   "metadata": {},
   "outputs": [],
   "source": [
    "def get_force(mass, accel):\n",
    "    return mass * accel"
   ]
  },
  {
   "cell_type": "markdown",
   "id": "81083f48",
   "metadata": {},
   "source": [
    "## Work"
   ]
  },
  {
   "cell_type": "code",
   "execution_count": 32,
   "id": "884f78fe",
   "metadata": {},
   "outputs": [],
   "source": [
    "def get_work(mass, accel, dist):\n",
    "    return get_force(mass, accel) * distance"
   ]
  },
  {
   "cell_type": "markdown",
   "id": "7b30f75e",
   "metadata": {},
   "source": [
    "## Momentum "
   ]
  },
  {
   "cell_type": "code",
   "execution_count": 59,
   "id": "76f8e257",
   "metadata": {},
   "outputs": [],
   "source": [
    "def get_momentum(mass, vel):\n",
    "    x = vel.get_x_component()\n",
    "    y = vel.get_y_component()\n",
    "    momentum_vector = Vector()\n",
    "    momentum_vector.x, momentum_vector.y = mass * x, mass * y\n",
    "    return momentum_vector"
   ]
  },
  {
   "cell_type": "code",
   "execution_count": 60,
   "id": "0749bc61",
   "metadata": {},
   "outputs": [],
   "source": [
    "v = Vector()\n",
    "v.x = 15\n",
    "v.y = -30"
   ]
  },
  {
   "cell_type": "code",
   "execution_count": 61,
   "id": "08180999",
   "metadata": {},
   "outputs": [],
   "source": [
    "p = get_momentum(0.2,v)"
   ]
  },
  {
   "cell_type": "code",
   "execution_count": 62,
   "id": "9e4b704d",
   "metadata": {},
   "outputs": [
    {
     "name": "stdout",
     "output_type": "stream",
     "text": [
      "= 3.0 i, -6.0 j \n"
     ]
    }
   ],
   "source": [
    "print(\"= \" + str(p.x) + \" i, \" + str(p.y) +\" j \")"
   ]
  },
  {
   "cell_type": "markdown",
   "id": "a144ca50",
   "metadata": {},
   "source": [
    "## Newton's Gravity\n",
    "\n",
    "### $$ F_g = \\frac{Gm_1m_2}{r^2}$$"
   ]
  },
  {
   "cell_type": "markdown",
   "id": "a44a71b2",
   "metadata": {},
   "source": [
    "### $G$ = grav. const = $6.67 x 10^{-11}N*m^{2}*k^{-2}$"
   ]
  },
  {
   "cell_type": "code",
   "execution_count": 2,
   "id": "baf2c263",
   "metadata": {},
   "outputs": [],
   "source": [
    "def newton_grav(G, m1, m2, r):\n",
    "    return ((G*m1*m2)/ (r**2))"
   ]
  },
  {
   "cell_type": "code",
   "execution_count": 3,
   "id": "18bb8833",
   "metadata": {},
   "outputs": [],
   "source": [
    "G = 6.67e-11"
   ]
  },
  {
   "cell_type": "markdown",
   "id": "4956ecf2",
   "metadata": {},
   "source": [
    "## Grav. Field \n",
    "\n",
    "### $$ F_G = m * g$$\n",
    "\n",
    "### $$ \\frac{Gm_1m_2}{r^2} = m_1 * g_2$$\n",
    "\n",
    "### $$\\rightarrow g_2 = \\frac{Gm_2}{r^2}$$"
   ]
  },
  {
   "cell_type": "markdown",
   "id": "c1962913",
   "metadata": {},
   "source": [
    "## Grav Potential Energy\n",
    "\n",
    "### $$U = -\\frac{GMm}{r}$$"
   ]
  },
  {
   "cell_type": "markdown",
   "id": "9ebd4c00",
   "metadata": {},
   "source": [
    "NOTE: Set $U=0$ at $v \\rightarrow INFINITY$"
   ]
  },
  {
   "cell_type": "code",
   "execution_count": 5,
   "id": "82850d04",
   "metadata": {},
   "outputs": [
    {
     "data": {
      "text/plain": [
       "11000"
      ]
     },
     "execution_count": 5,
     "metadata": {},
     "output_type": "execute_result"
    }
   ],
   "source": [
    "11* 10**3"
   ]
  },
  {
   "cell_type": "code",
   "execution_count": null,
   "id": "90dcd36c",
   "metadata": {},
   "outputs": [],
   "source": []
  }
 ],
 "metadata": {
  "kernelspec": {
   "display_name": "Python 3 (ipykernel)",
   "language": "python",
   "name": "python3"
  },
  "language_info": {
   "codemirror_mode": {
    "name": "ipython",
    "version": 3
   },
   "file_extension": ".py",
   "mimetype": "text/x-python",
   "name": "python",
   "nbconvert_exporter": "python",
   "pygments_lexer": "ipython3",
   "version": "3.8.10"
  }
 },
 "nbformat": 4,
 "nbformat_minor": 5
}
