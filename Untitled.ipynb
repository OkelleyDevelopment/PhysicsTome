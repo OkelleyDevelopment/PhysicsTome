{
 "cells": [
  {
   "cell_type": "markdown",
   "id": "9ab141e6",
   "metadata": {},
   "source": [
    "# The Physics Tome\n",
    "---"
   ]
  },
  {
   "cell_type": "markdown",
   "id": "9d4b4b31",
   "metadata": {},
   "source": [
    "Physics is cool and I like programming, so let's combine the two. "
   ]
  },
  {
   "cell_type": "markdown",
   "id": "bb9f3069",
   "metadata": {},
   "source": [
    "## Conversions\n",
    "---"
   ]
  },
  {
   "cell_type": "markdown",
   "id": "2e987c17",
   "metadata": {},
   "source": [
    "First, a simple Temperature conversion"
   ]
  },
  {
   "cell_type": "code",
   "execution_count": 1,
   "id": "1badc9e6",
   "metadata": {},
   "outputs": [],
   "source": [
    "def f_to_c(fahr_temp):\n",
    "    return (fahr_temp - 32) * 5 / 9"
   ]
  },
  {
   "cell_type": "code",
   "execution_count": 2,
   "id": "c62ffff5",
   "metadata": {},
   "outputs": [],
   "source": [
    "def c_to_f(cel_temp):\n",
    "    return cel_temp * (9 / 5) + 32"
   ]
  },
  {
   "cell_type": "markdown",
   "id": "d55a567b",
   "metadata": {},
   "source": []
  }
 ],
 "metadata": {
  "kernelspec": {
   "display_name": "Python 3",
   "language": "python",
   "name": "python3"
  },
  "language_info": {
   "codemirror_mode": {
    "name": "ipython",
    "version": 3
   },
   "file_extension": ".py",
   "mimetype": "text/x-python",
   "name": "python",
   "nbconvert_exporter": "python",
   "pygments_lexer": "ipython3",
   "version": "3.8.10"
  }
 },
 "nbformat": 4,
 "nbformat_minor": 5
}
